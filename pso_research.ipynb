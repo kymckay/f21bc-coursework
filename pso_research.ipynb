{
 "cells": [
  {
   "cell_type": "code",
   "execution_count": 1,
   "metadata": {},
   "outputs": [],
   "source": [
    "import pso\n",
    "import dataset\n",
    "import network\n",
    "import numpy as np\n",
    "import funcs\n",
    "\n",
    "# One element for every weight + 2 at end for activation functions\n",
    "num_values = (\n",
    "    dataset.num_features * 4 # Input layer weights\n",
    "    + 4 ** 2                 # Hidden layer weights\n",
    "    + 4                      # Output layer weights\n",
    "    + 2                      # Activation functions\n",
    "    + 2 * 4 + 1              # Bias weights for all layers\n",
    ")\n",
    "\n",
    "min_values = -np.ones(num_values)\n",
    "max_values = np.ones(num_values)\n",
    "\n",
    "# 4 possible activation functions (0-1, 1-2, 2-3, 3-4)\n",
    "min_values[-2:] = 0\n",
    "max_values[-2:] = 3.999999999\n",
    "\n",
    "swarm = pso.swarm(min_values, max_values)\n",
    "\n",
    "model = network.network.from_list(swarm.search(), dataset.num_features)"
   ]
  },
  {
   "cell_type": "code",
   "execution_count": 2,
   "metadata": {},
   "outputs": [
    {
     "name": "stdout",
     "output_type": "stream",
     "text": [
      "0.5553935860058309\n"
     ]
    }
   ],
   "source": [
    "y_predictions = model.forward_propagate(dataset.x)\n",
    "\n",
    "print(np.mean(np.around(y_predictions) == dataset.y))"
   ]
  },
  {
   "cell_type": "code",
   "execution_count": 9,
   "metadata": {},
   "outputs": [],
   "source": [
    "# find average loss for each particle in the swarm\n",
    "def swarm_fitness(x):\n",
    "    n_particles = x.shape[0]\n",
    "    loss = np.zeros(n_particles)\n",
    "    for i in range(n_particles):\n",
    "        net = network.network.from_list(x[i], dataset.num_features)            \n",
    "        y_pred = net.forward_propagate(dataset.x)\n",
    "        loss[i] = np.mean(funcs._log_loss(dataset.y, y_pred))\n",
    "\n",
    "    return loss"
   ]
  },
  {
   "cell_type": "code",
   "execution_count": 19,
   "metadata": {},
   "outputs": [
    {
     "name": "stderr",
     "output_type": "stream",
     "text": [
      "2021-11-06 21:18:26,140 - pyswarms.single.global_best - INFO - Optimize for 1000 iters with {'c1': 5.6, 'c2': 2.1, 'w': 0.6}\n",
      "pyswarms.single.global_best: 100%|██████████|1000/1000, best_cost=0.687\n",
      "2021-11-06 21:19:14,416 - pyswarms.single.global_best - INFO - Optimization finished | best cost: 0.687100718881144, best pos: [ 0.04732996  0.83100987 -0.8157307   0.2219215   0.97179045  0.19271484\n",
      " -0.1673662  -0.0668689   0.08485388 -0.08827724 -0.56253465  0.96291148\n",
      "  0.45051289  0.19531236  0.05412238  0.22622698  0.1323664   0.56501206\n",
      "  0.29094525  0.89445799 -0.49338208 -0.96343911 -0.9704035  -0.326208\n",
      " -0.61096941 -0.53617431  0.32184765 -0.19649684 -0.44162633 -0.73814163\n",
      " -0.93344696  0.28390726 -0.41457881 -0.44198468 -0.24575348 -0.58973269\n",
      "  0.0727745   0.68184245 -0.14255513 -0.61748015  0.25001938 -0.1584358\n",
      "  0.18911911 -0.35957574 -0.14892563  0.93233204  0.0473717 ]\n"
     ]
    }
   ],
   "source": [
    "import pyswarms as ps\n",
    "# Initialize swarm\n",
    "options = {'c1': 5.6, 'c2': 2.1, 'w':0.6}\n",
    "bounds = (min_values, max_values)\n",
    "\n",
    "# Call instance of PSO\n",
    "optimizer = ps.single.GlobalBestPSO(n_particles=10, dimensions=num_values, options=options, bounds=bounds)\n",
    "\n",
    "# Perform optimization\n",
    "cost, pos = optimizer.optimize(swarm_fitness, iters=1000, verbose=3)"
   ]
  },
  {
   "cell_type": "code",
   "execution_count": 20,
   "metadata": {},
   "outputs": [
    {
     "name": "stdout",
     "output_type": "stream",
     "text": [
      "0.5553935860058309\n"
     ]
    }
   ],
   "source": [
    "net = network.network.from_list(pos, dataset.num_features)            \n",
    "y_pred = net.forward_propagate(dataset.x)\n",
    "print(np.mean(np.around(y_predictions) == dataset.y))"
   ]
  }
 ],
 "metadata": {
  "interpreter": {
   "hash": "40d3a090f54c6569ab1632332b64b2c03c39dcf918b08424e98f38b5ae0af88f"
  },
  "kernelspec": {
   "display_name": "Python 3.8.8 64-bit ('base': conda)",
   "name": "python3"
  },
  "language_info": {
   "codemirror_mode": {
    "name": "ipython",
    "version": 3
   },
   "file_extension": ".py",
   "mimetype": "text/x-python",
   "name": "python",
   "nbconvert_exporter": "python",
   "pygments_lexer": "ipython3",
   "version": "3.8.8"
  },
  "orig_nbformat": 4
 },
 "nbformat": 4,
 "nbformat_minor": 2
}
