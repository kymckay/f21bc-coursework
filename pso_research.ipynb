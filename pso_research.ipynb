{
 "cells": [
  {
   "cell_type": "code",
   "execution_count": null,
   "metadata": {},
   "outputs": [],
   "source": [
    "import pso\n",
    "import dataset\n",
    "import network\n",
    "import numpy as np\n",
    "\n",
    "# One element for every weight + 2 at end for activation functions\n",
    "num_values = (\n",
    "    dataset.num_features * 4 # Input layer weights\n",
    "    + 4 ** 2                 # Hidden layer weights\n",
    "    + 4                      # Output layer weights\n",
    "    + 2                      # Activation functions\n",
    "    + 2 * 4 + 1              # Bias weights for all layers\n",
    ")\n",
    "\n",
    "min_values = np.zeros(num_values)\n",
    "max_values = np.ones(num_values)\n",
    "\n",
    "# 4 possible activation functions (0-1, 1-2, 2-3, 3-4)\n",
    "max_values[-2:] = 4\n",
    "\n",
    "swarm = pso.swarm(min_values, max_values)\n",
    "\n",
    "model = network.network.from_list(swarm.search(), dataset.num_features)\n",
    "\n",
    "y_predictions = model.forward_propagate(dataset.x_test)\n",
    "\n",
    "print(np.mean(y_predictions == dataset.y_test))"
   ]
  }
 ],
 "metadata": {
  "interpreter": {
   "hash": "31d85c8c4349c595bff3342b0980d2ed891b4161c611c2485aef65641e7a00b9"
  },
  "kernelspec": {
   "display_name": "Python 3.9.7 64-bit ('biocomp': conda)",
   "language": "python",
   "name": "python3"
  },
  "language_info": {
   "codemirror_mode": {
    "name": "ipython",
    "version": 3
   },
   "file_extension": ".py",
   "mimetype": "text/x-python",
   "name": "python",
   "nbconvert_exporter": "python",
   "pygments_lexer": "ipython3",
   "version": "3.9.7"
  },
  "orig_nbformat": 4
 },
 "nbformat": 4,
 "nbformat_minor": 2
}
