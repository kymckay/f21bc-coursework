{
 "cells": [
  {
   "cell_type": "code",
   "execution_count": 1,
   "source": [
    "# Logistic regression from scratch\n",
    "import pandas as pd\n",
    "import numpy as np\n",
    "\n",
    "# Make randomness repeatable for results\n",
    "np.random.seed(233)\n",
    "\n",
    "data = pd.read_csv(\"diabetes.csv\", sep=\",\")\n",
    "data.head()"
   ],
   "outputs": [
    {
     "output_type": "execute_result",
     "data": {
      "text/html": [
       "<div>\n",
       "<style scoped>\n",
       "    .dataframe tbody tr th:only-of-type {\n",
       "        vertical-align: middle;\n",
       "    }\n",
       "\n",
       "    .dataframe tbody tr th {\n",
       "        vertical-align: top;\n",
       "    }\n",
       "\n",
       "    .dataframe thead th {\n",
       "        text-align: right;\n",
       "    }\n",
       "</style>\n",
       "<table border=\"1\" class=\"dataframe\">\n",
       "  <thead>\n",
       "    <tr style=\"text-align: right;\">\n",
       "      <th></th>\n",
       "      <th>Pregnancies</th>\n",
       "      <th>Glucose</th>\n",
       "      <th>BloodPressure</th>\n",
       "      <th>SkinThickness</th>\n",
       "      <th>Insulin</th>\n",
       "      <th>BMI</th>\n",
       "      <th>DiabetesPedigreeFunction</th>\n",
       "      <th>Age</th>\n",
       "      <th>Outcome</th>\n",
       "    </tr>\n",
       "  </thead>\n",
       "  <tbody>\n",
       "    <tr>\n",
       "      <th>0</th>\n",
       "      <td>6</td>\n",
       "      <td>148</td>\n",
       "      <td>72</td>\n",
       "      <td>35</td>\n",
       "      <td>0</td>\n",
       "      <td>33.6</td>\n",
       "      <td>0.627</td>\n",
       "      <td>50</td>\n",
       "      <td>1</td>\n",
       "    </tr>\n",
       "    <tr>\n",
       "      <th>1</th>\n",
       "      <td>1</td>\n",
       "      <td>85</td>\n",
       "      <td>66</td>\n",
       "      <td>29</td>\n",
       "      <td>0</td>\n",
       "      <td>26.6</td>\n",
       "      <td>0.351</td>\n",
       "      <td>31</td>\n",
       "      <td>0</td>\n",
       "    </tr>\n",
       "    <tr>\n",
       "      <th>2</th>\n",
       "      <td>8</td>\n",
       "      <td>183</td>\n",
       "      <td>64</td>\n",
       "      <td>0</td>\n",
       "      <td>0</td>\n",
       "      <td>23.3</td>\n",
       "      <td>0.672</td>\n",
       "      <td>32</td>\n",
       "      <td>1</td>\n",
       "    </tr>\n",
       "    <tr>\n",
       "      <th>3</th>\n",
       "      <td>1</td>\n",
       "      <td>89</td>\n",
       "      <td>66</td>\n",
       "      <td>23</td>\n",
       "      <td>94</td>\n",
       "      <td>28.1</td>\n",
       "      <td>0.167</td>\n",
       "      <td>21</td>\n",
       "      <td>0</td>\n",
       "    </tr>\n",
       "    <tr>\n",
       "      <th>4</th>\n",
       "      <td>0</td>\n",
       "      <td>137</td>\n",
       "      <td>40</td>\n",
       "      <td>35</td>\n",
       "      <td>168</td>\n",
       "      <td>43.1</td>\n",
       "      <td>2.288</td>\n",
       "      <td>33</td>\n",
       "      <td>1</td>\n",
       "    </tr>\n",
       "  </tbody>\n",
       "</table>\n",
       "</div>"
      ],
      "text/plain": [
       "   Pregnancies  Glucose  BloodPressure  SkinThickness  Insulin   BMI  \\\n",
       "0            6      148             72             35        0  33.6   \n",
       "1            1       85             66             29        0  26.6   \n",
       "2            8      183             64              0        0  23.3   \n",
       "3            1       89             66             23       94  28.1   \n",
       "4            0      137             40             35      168  43.1   \n",
       "\n",
       "   DiabetesPedigreeFunction  Age  Outcome  \n",
       "0                     0.627   50        1  \n",
       "1                     0.351   31        0  \n",
       "2                     0.672   32        1  \n",
       "3                     0.167   21        0  \n",
       "4                     2.288   33        1  "
      ]
     },
     "metadata": {},
     "execution_count": 1
    }
   ],
   "metadata": {}
  },
  {
   "cell_type": "markdown",
   "source": [
    "# Initialisation"
   ],
   "metadata": {}
  },
  {
   "cell_type": "code",
   "execution_count": 2,
   "source": [
    "# The input data (each column is an instance)\n",
    "x = data.loc[:, \"Pregnancies\":\"Age\"].to_numpy().T\n",
    "\n",
    "# Number of features and instances\n",
    "nx, ni = x.shape\n",
    "print(f'There are {nx} featues and {ni} instances')\n",
    "\n",
    "# The expected (real) output\n",
    "y = data.loc[:, \"Outcome\"].to_numpy()\n",
    "y = y.reshape(1, ni)"
   ],
   "outputs": [
    {
     "output_type": "stream",
     "name": "stdout",
     "text": [
      "There are 8 featues and 768 instances\n"
     ]
    }
   ],
   "metadata": {}
  },
  {
   "cell_type": "code",
   "execution_count": 3,
   "source": [
    "# Single node means 1 weight for each input, and 1 bias for each instance\n",
    "W = np.random.rand(nx, 1) * 0.001 # Small weights\n",
    "b = np.zeros((1, ni))\n",
    "print(f'The weights have shape {W.shape} and bias has shape {b.shape}')"
   ],
   "outputs": [
    {
     "output_type": "stream",
     "name": "stdout",
     "text": [
      "The weights have shape (8, 1) and bias has shape (1, 768)\n"
     ]
    }
   ],
   "metadata": {}
  },
  {
   "cell_type": "markdown",
   "source": [
    "# Forward Propagation"
   ],
   "metadata": {}
  },
  {
   "cell_type": "code",
   "execution_count": 4,
   "source": [
    "# Real number outputs of the network for every instance\n",
    "def forward_prop(W, x, b):\n",
    "    return np.matmul(W.T, x) + b\n",
    "\n",
    "z = forward_prop(W, x, b)\n",
    "print(f'The output has shape {z.shape}')"
   ],
   "outputs": [
    {
     "output_type": "stream",
     "name": "stdout",
     "text": [
      "The output has shape (1, 768)\n"
     ]
    }
   ],
   "metadata": {}
  },
  {
   "cell_type": "markdown",
   "source": [
    "# Sigmoid Function"
   ],
   "metadata": {}
  },
  {
   "cell_type": "code",
   "execution_count": 5,
   "source": [
    "# Use Sigmoid function to compress to 0-1 range as probability\n",
    "def sigmoid(z):\n",
    "    # Log loss is undefined for probability value of 1 and 0\n",
    "    # Use very small epsilon to clip result\n",
    "    eps = 1e-15 \n",
    "    return np.maximum(\n",
    "        eps, np.minimum(\n",
    "            1-eps, np.divide(1, 1 + np.exp(-z))\n",
    "        )\n",
    "    )\n",
    "\n",
    "y_hat = sigmoid(z)"
   ],
   "outputs": [],
   "metadata": {}
  },
  {
   "cell_type": "markdown",
   "source": [
    "# Loss Function"
   ],
   "metadata": {}
  },
  {
   "cell_type": "code",
   "execution_count": 6,
   "source": [
    "def log_loss(y, y_hat):\n",
    "    # Remember these operations are element-wise\n",
    "    a = np.multiply(y, np.log(y_hat))\n",
    "    b = 1 - y\n",
    "    c = np.log(1 - y_hat)\n",
    "    return -(a + np.multiply(b,c))\n",
    "\n",
    "L = log_loss(y, y_hat)"
   ],
   "outputs": [],
   "metadata": {}
  },
  {
   "cell_type": "markdown",
   "source": [
    "# Cost Function"
   ],
   "metadata": {}
  },
  {
   "cell_type": "code",
   "execution_count": 7,
   "source": [
    "def cost(L):\n",
    "    return np.average(L)\n",
    "\n",
    "cost(L)"
   ],
   "outputs": [
    {
     "output_type": "execute_result",
     "data": {
      "text/plain": [
       "0.7212521415177289"
      ]
     },
     "metadata": {},
     "execution_count": 7
    }
   ],
   "metadata": {}
  },
  {
   "cell_type": "markdown",
   "source": [
    "# Back Propogation"
   ],
   "metadata": {}
  },
  {
   "cell_type": "code",
   "execution_count": 8,
   "source": [
    "# Work backwards through the chain to get loss derivative with respect to weights and biases\n",
    "def backpropogation(y_hat, y):\n",
    "    # Deriviative of log loss (with respect to y_hat)\n",
    "    # dy_hat = np.divide(-y, y_hat) + np.divide(1 - y, 1 - y_hat)\n",
    "\n",
    "    # Derivative of log loss (with respect to sigmoid input)\n",
    "    dz = y_hat - y\n",
    "\n",
    "    # Derivative of log less with respect to weights and biases simplifies to\n",
    "    dw = np.multiply(x, dz)\n",
    "    db = dz\n",
    "\n",
    "    return dw, db"
   ],
   "outputs": [],
   "metadata": {}
  },
  {
   "cell_type": "markdown",
   "source": [
    "# Gradient Descent"
   ],
   "metadata": {}
  },
  {
   "cell_type": "code",
   "execution_count": 9,
   "source": [
    "alpha = 0.0001 # Learning rate\n",
    "\n",
    "for epoch in range(10000):\n",
    "    z = forward_prop(W, x, b)\n",
    "    y_hat = sigmoid(z)\n",
    "\n",
    "    if ((epoch + 1) % 1000 == 0):\n",
    "        L = log_loss(y, y_hat)\n",
    "        print(f'Cost at epoch {epoch + 1}: {cost(L)}')\n",
    "\n",
    "    dw, db = backpropogation(y_hat, y)\n",
    "\n",
    "    # Remember to average adjustment from every instance\n",
    "    dw = np.average(dw, axis=1).reshape(8, 1)\n",
    "    db = np.average(db, axis=0).reshape(1, ni)\n",
    "\n",
    "    # Update the weights and biases\n",
    "    W = W - alpha * dw\n",
    "    b = b - alpha * db"
   ],
   "outputs": [
    {
     "output_type": "stream",
     "name": "stdout",
     "text": [
      "Cost at epoch 1000: 0.5981020200456868\n",
      "Cost at epoch 2000: 0.5757004199412606\n",
      "Cost at epoch 3000: 0.5550461511959942\n",
      "Cost at epoch 4000: 0.5358094444207468\n",
      "Cost at epoch 5000: 0.5177633715229845\n",
      "Cost at epoch 6000: 0.500743064233804\n",
      "Cost at epoch 7000: 0.4846266855559085\n",
      "Cost at epoch 8000: 0.4693221305644966\n",
      "Cost at epoch 9000: 0.4547578354131359\n",
      "Cost at epoch 10000: 0.44087648896505954\n"
     ]
    }
   ],
   "metadata": {}
  }
 ],
 "metadata": {
  "interpreter": {
   "hash": "a99e5388d990db8b31a07868fe7640f375047cb60dc3c2a384997b641b6d8d17"
  },
  "kernelspec": {
   "name": "python3",
   "display_name": "Python 3.9.7 64-bit ('biocomp': conda)"
  },
  "language_info": {
   "codemirror_mode": {
    "name": "ipython",
    "version": 3
   },
   "file_extension": ".py",
   "mimetype": "text/x-python",
   "name": "python",
   "nbconvert_exporter": "python",
   "pygments_lexer": "ipython3",
   "version": "3.9.7"
  }
 },
 "nbformat": 4,
 "nbformat_minor": 2
}